{
  "cells": [
    {
      "cell_type": "code",
      "execution_count": 40,
      "id": "e2703a8e-3e99-41e5-874d-20a8d02d153f",
      "metadata": {
        "id": "e2703a8e-3e99-41e5-874d-20a8d02d153f"
      },
      "outputs": [],
      "source": [
        "import pandas as pd\n",
        "import matplotlib.pyplot as plt\n",
        "import requests\n",
        "import seaborn as sns\n",
        "import io\n",
        "import sqlite3\n"
      ]
    },
    {
      "cell_type": "code",
      "source": [
        " from google.colab import drive\n",
        "drive.mount('/content/drive')"
      ],
      "metadata": {
        "colab": {
          "base_uri": "https://localhost:8080/"
        },
        "id": "opPUUrTeNhmc",
        "outputId": "bc4f9662-9c48-43dc-cd2b-9477d5f1ec8e"
      },
      "id": "opPUUrTeNhmc",
      "execution_count": 3,
      "outputs": [
        {
          "output_type": "stream",
          "name": "stdout",
          "text": [
            "Mounted at /content/drive\n"
          ]
        }
      ]
    },
    {
      "cell_type": "code",
      "source": [
        "df = pd.read_excel('/content/drive/MyDrive/Online Retail.xlsx')"
      ],
      "metadata": {
        "id": "O24Kuj7UXKgz"
      },
      "id": "O24Kuj7UXKgz",
      "execution_count": 4,
      "outputs": []
    },
    {
      "cell_type": "code",
      "source": [
        "df.info()"
      ],
      "metadata": {
        "id": "-9YEHWLTXKkU",
        "colab": {
          "base_uri": "https://localhost:8080/"
        },
        "outputId": "6d7a1790-fc97-4682-caf6-2dfd72632972"
      },
      "id": "-9YEHWLTXKkU",
      "execution_count": 5,
      "outputs": [
        {
          "output_type": "stream",
          "name": "stdout",
          "text": [
            "<class 'pandas.core.frame.DataFrame'>\n",
            "RangeIndex: 541909 entries, 0 to 541908\n",
            "Data columns (total 8 columns):\n",
            " #   Column       Non-Null Count   Dtype         \n",
            "---  ------       --------------   -----         \n",
            " 0   InvoiceNo    541909 non-null  object        \n",
            " 1   StockCode    541909 non-null  object        \n",
            " 2   Description  540455 non-null  object        \n",
            " 3   Quantity     541909 non-null  int64         \n",
            " 4   InvoiceDate  541909 non-null  datetime64[ns]\n",
            " 5   UnitPrice    541909 non-null  float64       \n",
            " 6   CustomerID   406829 non-null  float64       \n",
            " 7   Country      541909 non-null  object        \n",
            "dtypes: datetime64[ns](1), float64(2), int64(1), object(4)\n",
            "memory usage: 33.1+ MB\n"
          ]
        }
      ]
    },
    {
      "cell_type": "code",
      "source": [
        "print(df.describe())"
      ],
      "metadata": {
        "id": "wid9BhZxNyL_",
        "colab": {
          "base_uri": "https://localhost:8080/"
        },
        "outputId": "d3bf344a-7540-4a1d-8b4b-c4f8daf8a3f7"
      },
      "id": "wid9BhZxNyL_",
      "execution_count": 6,
      "outputs": [
        {
          "output_type": "stream",
          "name": "stdout",
          "text": [
            "            Quantity                    InvoiceDate      UnitPrice  \\\n",
            "count  541909.000000                         541909  541909.000000   \n",
            "mean        9.552250  2011-07-04 13:34:57.156386048       4.611114   \n",
            "min    -80995.000000            2010-12-01 08:26:00  -11062.060000   \n",
            "25%         1.000000            2011-03-28 11:34:00       1.250000   \n",
            "50%         3.000000            2011-07-19 17:17:00       2.080000   \n",
            "75%        10.000000            2011-10-19 11:27:00       4.130000   \n",
            "max     80995.000000            2011-12-09 12:50:00   38970.000000   \n",
            "std       218.081158                            NaN      96.759853   \n",
            "\n",
            "          CustomerID  \n",
            "count  406829.000000  \n",
            "mean    15287.690570  \n",
            "min     12346.000000  \n",
            "25%     13953.000000  \n",
            "50%     15152.000000  \n",
            "75%     16791.000000  \n",
            "max     18287.000000  \n",
            "std      1713.600303  \n"
          ]
        }
      ]
    },
    {
      "cell_type": "code",
      "execution_count": 7,
      "id": "736143c4-66f3-482f-b303-0dcd0cec6194",
      "metadata": {
        "id": "736143c4-66f3-482f-b303-0dcd0cec6194",
        "colab": {
          "base_uri": "https://localhost:8080/"
        },
        "outputId": "1220c62f-f710-444b-be1e-6bee02e01645"
      },
      "outputs": [
        {
          "output_type": "execute_result",
          "data": {
            "text/plain": [
              "Index(['InvoiceNo', 'StockCode', 'Description', 'Quantity', 'InvoiceDate',\n",
              "       'UnitPrice', 'CustomerID', 'Country'],\n",
              "      dtype='object')"
            ]
          },
          "metadata": {},
          "execution_count": 7
        }
      ],
      "source": [
        "df.columns"
      ]
    },
    {
      "cell_type": "code",
      "execution_count": 8,
      "id": "458a02e9-daa6-4adc-b641-e21a748f7527",
      "metadata": {
        "id": "458a02e9-daa6-4adc-b641-e21a748f7527",
        "colab": {
          "base_uri": "https://localhost:8080/",
          "height": 206
        },
        "outputId": "ee289018-387d-4944-925b-8d5c80c2887c"
      },
      "outputs": [
        {
          "output_type": "execute_result",
          "data": {
            "text/plain": [
              "  InvoiceNo StockCode                          Description  Quantity  \\\n",
              "0    536365    85123A   WHITE HANGING HEART T-LIGHT HOLDER         6   \n",
              "1    536365     71053                  WHITE METAL LANTERN         6   \n",
              "2    536365    84406B       CREAM CUPID HEARTS COAT HANGER         8   \n",
              "3    536365    84029G  KNITTED UNION FLAG HOT WATER BOTTLE         6   \n",
              "4    536365    84029E       RED WOOLLY HOTTIE WHITE HEART.         6   \n",
              "\n",
              "          InvoiceDate  UnitPrice  CustomerID         Country  \n",
              "0 2010-12-01 08:26:00       2.55     17850.0  United Kingdom  \n",
              "1 2010-12-01 08:26:00       3.39     17850.0  United Kingdom  \n",
              "2 2010-12-01 08:26:00       2.75     17850.0  United Kingdom  \n",
              "3 2010-12-01 08:26:00       3.39     17850.0  United Kingdom  \n",
              "4 2010-12-01 08:26:00       3.39     17850.0  United Kingdom  "
            ],
            "text/html": [
              "\n",
              "  <div id=\"df-dc68df85-3dca-4466-b0aa-f1367f59d692\" class=\"colab-df-container\">\n",
              "    <div>\n",
              "<style scoped>\n",
              "    .dataframe tbody tr th:only-of-type {\n",
              "        vertical-align: middle;\n",
              "    }\n",
              "\n",
              "    .dataframe tbody tr th {\n",
              "        vertical-align: top;\n",
              "    }\n",
              "\n",
              "    .dataframe thead th {\n",
              "        text-align: right;\n",
              "    }\n",
              "</style>\n",
              "<table border=\"1\" class=\"dataframe\">\n",
              "  <thead>\n",
              "    <tr style=\"text-align: right;\">\n",
              "      <th></th>\n",
              "      <th>InvoiceNo</th>\n",
              "      <th>StockCode</th>\n",
              "      <th>Description</th>\n",
              "      <th>Quantity</th>\n",
              "      <th>InvoiceDate</th>\n",
              "      <th>UnitPrice</th>\n",
              "      <th>CustomerID</th>\n",
              "      <th>Country</th>\n",
              "    </tr>\n",
              "  </thead>\n",
              "  <tbody>\n",
              "    <tr>\n",
              "      <th>0</th>\n",
              "      <td>536365</td>\n",
              "      <td>85123A</td>\n",
              "      <td>WHITE HANGING HEART T-LIGHT HOLDER</td>\n",
              "      <td>6</td>\n",
              "      <td>2010-12-01 08:26:00</td>\n",
              "      <td>2.55</td>\n",
              "      <td>17850.0</td>\n",
              "      <td>United Kingdom</td>\n",
              "    </tr>\n",
              "    <tr>\n",
              "      <th>1</th>\n",
              "      <td>536365</td>\n",
              "      <td>71053</td>\n",
              "      <td>WHITE METAL LANTERN</td>\n",
              "      <td>6</td>\n",
              "      <td>2010-12-01 08:26:00</td>\n",
              "      <td>3.39</td>\n",
              "      <td>17850.0</td>\n",
              "      <td>United Kingdom</td>\n",
              "    </tr>\n",
              "    <tr>\n",
              "      <th>2</th>\n",
              "      <td>536365</td>\n",
              "      <td>84406B</td>\n",
              "      <td>CREAM CUPID HEARTS COAT HANGER</td>\n",
              "      <td>8</td>\n",
              "      <td>2010-12-01 08:26:00</td>\n",
              "      <td>2.75</td>\n",
              "      <td>17850.0</td>\n",
              "      <td>United Kingdom</td>\n",
              "    </tr>\n",
              "    <tr>\n",
              "      <th>3</th>\n",
              "      <td>536365</td>\n",
              "      <td>84029G</td>\n",
              "      <td>KNITTED UNION FLAG HOT WATER BOTTLE</td>\n",
              "      <td>6</td>\n",
              "      <td>2010-12-01 08:26:00</td>\n",
              "      <td>3.39</td>\n",
              "      <td>17850.0</td>\n",
              "      <td>United Kingdom</td>\n",
              "    </tr>\n",
              "    <tr>\n",
              "      <th>4</th>\n",
              "      <td>536365</td>\n",
              "      <td>84029E</td>\n",
              "      <td>RED WOOLLY HOTTIE WHITE HEART.</td>\n",
              "      <td>6</td>\n",
              "      <td>2010-12-01 08:26:00</td>\n",
              "      <td>3.39</td>\n",
              "      <td>17850.0</td>\n",
              "      <td>United Kingdom</td>\n",
              "    </tr>\n",
              "  </tbody>\n",
              "</table>\n",
              "</div>\n",
              "    <div class=\"colab-df-buttons\">\n",
              "\n",
              "  <div class=\"colab-df-container\">\n",
              "    <button class=\"colab-df-convert\" onclick=\"convertToInteractive('df-dc68df85-3dca-4466-b0aa-f1367f59d692')\"\n",
              "            title=\"Convert this dataframe to an interactive table.\"\n",
              "            style=\"display:none;\">\n",
              "\n",
              "  <svg xmlns=\"http://www.w3.org/2000/svg\" height=\"24px\" viewBox=\"0 -960 960 960\">\n",
              "    <path d=\"M120-120v-720h720v720H120Zm60-500h600v-160H180v160Zm220 220h160v-160H400v160Zm0 220h160v-160H400v160ZM180-400h160v-160H180v160Zm440 0h160v-160H620v160ZM180-180h160v-160H180v160Zm440 0h160v-160H620v160Z\"/>\n",
              "  </svg>\n",
              "    </button>\n",
              "\n",
              "  <style>\n",
              "    .colab-df-container {\n",
              "      display:flex;\n",
              "      gap: 12px;\n",
              "    }\n",
              "\n",
              "    .colab-df-convert {\n",
              "      background-color: #E8F0FE;\n",
              "      border: none;\n",
              "      border-radius: 50%;\n",
              "      cursor: pointer;\n",
              "      display: none;\n",
              "      fill: #1967D2;\n",
              "      height: 32px;\n",
              "      padding: 0 0 0 0;\n",
              "      width: 32px;\n",
              "    }\n",
              "\n",
              "    .colab-df-convert:hover {\n",
              "      background-color: #E2EBFA;\n",
              "      box-shadow: 0px 1px 2px rgba(60, 64, 67, 0.3), 0px 1px 3px 1px rgba(60, 64, 67, 0.15);\n",
              "      fill: #174EA6;\n",
              "    }\n",
              "\n",
              "    .colab-df-buttons div {\n",
              "      margin-bottom: 4px;\n",
              "    }\n",
              "\n",
              "    [theme=dark] .colab-df-convert {\n",
              "      background-color: #3B4455;\n",
              "      fill: #D2E3FC;\n",
              "    }\n",
              "\n",
              "    [theme=dark] .colab-df-convert:hover {\n",
              "      background-color: #434B5C;\n",
              "      box-shadow: 0px 1px 3px 1px rgba(0, 0, 0, 0.15);\n",
              "      filter: drop-shadow(0px 1px 2px rgba(0, 0, 0, 0.3));\n",
              "      fill: #FFFFFF;\n",
              "    }\n",
              "  </style>\n",
              "\n",
              "    <script>\n",
              "      const buttonEl =\n",
              "        document.querySelector('#df-dc68df85-3dca-4466-b0aa-f1367f59d692 button.colab-df-convert');\n",
              "      buttonEl.style.display =\n",
              "        google.colab.kernel.accessAllowed ? 'block' : 'none';\n",
              "\n",
              "      async function convertToInteractive(key) {\n",
              "        const element = document.querySelector('#df-dc68df85-3dca-4466-b0aa-f1367f59d692');\n",
              "        const dataTable =\n",
              "          await google.colab.kernel.invokeFunction('convertToInteractive',\n",
              "                                                    [key], {});\n",
              "        if (!dataTable) return;\n",
              "\n",
              "        const docLinkHtml = 'Like what you see? Visit the ' +\n",
              "          '<a target=\"_blank\" href=https://colab.research.google.com/notebooks/data_table.ipynb>data table notebook</a>'\n",
              "          + ' to learn more about interactive tables.';\n",
              "        element.innerHTML = '';\n",
              "        dataTable['output_type'] = 'display_data';\n",
              "        await google.colab.output.renderOutput(dataTable, element);\n",
              "        const docLink = document.createElement('div');\n",
              "        docLink.innerHTML = docLinkHtml;\n",
              "        element.appendChild(docLink);\n",
              "      }\n",
              "    </script>\n",
              "  </div>\n",
              "\n",
              "\n",
              "<div id=\"df-bfed7b15-75a3-4267-89b9-f18af4dd106e\">\n",
              "  <button class=\"colab-df-quickchart\" onclick=\"quickchart('df-bfed7b15-75a3-4267-89b9-f18af4dd106e')\"\n",
              "            title=\"Suggest charts\"\n",
              "            style=\"display:none;\">\n",
              "\n",
              "<svg xmlns=\"http://www.w3.org/2000/svg\" height=\"24px\"viewBox=\"0 0 24 24\"\n",
              "     width=\"24px\">\n",
              "    <g>\n",
              "        <path d=\"M19 3H5c-1.1 0-2 .9-2 2v14c0 1.1.9 2 2 2h14c1.1 0 2-.9 2-2V5c0-1.1-.9-2-2-2zM9 17H7v-7h2v7zm4 0h-2V7h2v10zm4 0h-2v-4h2v4z\"/>\n",
              "    </g>\n",
              "</svg>\n",
              "  </button>\n",
              "\n",
              "<style>\n",
              "  .colab-df-quickchart {\n",
              "      --bg-color: #E8F0FE;\n",
              "      --fill-color: #1967D2;\n",
              "      --hover-bg-color: #E2EBFA;\n",
              "      --hover-fill-color: #174EA6;\n",
              "      --disabled-fill-color: #AAA;\n",
              "      --disabled-bg-color: #DDD;\n",
              "  }\n",
              "\n",
              "  [theme=dark] .colab-df-quickchart {\n",
              "      --bg-color: #3B4455;\n",
              "      --fill-color: #D2E3FC;\n",
              "      --hover-bg-color: #434B5C;\n",
              "      --hover-fill-color: #FFFFFF;\n",
              "      --disabled-bg-color: #3B4455;\n",
              "      --disabled-fill-color: #666;\n",
              "  }\n",
              "\n",
              "  .colab-df-quickchart {\n",
              "    background-color: var(--bg-color);\n",
              "    border: none;\n",
              "    border-radius: 50%;\n",
              "    cursor: pointer;\n",
              "    display: none;\n",
              "    fill: var(--fill-color);\n",
              "    height: 32px;\n",
              "    padding: 0;\n",
              "    width: 32px;\n",
              "  }\n",
              "\n",
              "  .colab-df-quickchart:hover {\n",
              "    background-color: var(--hover-bg-color);\n",
              "    box-shadow: 0 1px 2px rgba(60, 64, 67, 0.3), 0 1px 3px 1px rgba(60, 64, 67, 0.15);\n",
              "    fill: var(--button-hover-fill-color);\n",
              "  }\n",
              "\n",
              "  .colab-df-quickchart-complete:disabled,\n",
              "  .colab-df-quickchart-complete:disabled:hover {\n",
              "    background-color: var(--disabled-bg-color);\n",
              "    fill: var(--disabled-fill-color);\n",
              "    box-shadow: none;\n",
              "  }\n",
              "\n",
              "  .colab-df-spinner {\n",
              "    border: 2px solid var(--fill-color);\n",
              "    border-color: transparent;\n",
              "    border-bottom-color: var(--fill-color);\n",
              "    animation:\n",
              "      spin 1s steps(1) infinite;\n",
              "  }\n",
              "\n",
              "  @keyframes spin {\n",
              "    0% {\n",
              "      border-color: transparent;\n",
              "      border-bottom-color: var(--fill-color);\n",
              "      border-left-color: var(--fill-color);\n",
              "    }\n",
              "    20% {\n",
              "      border-color: transparent;\n",
              "      border-left-color: var(--fill-color);\n",
              "      border-top-color: var(--fill-color);\n",
              "    }\n",
              "    30% {\n",
              "      border-color: transparent;\n",
              "      border-left-color: var(--fill-color);\n",
              "      border-top-color: var(--fill-color);\n",
              "      border-right-color: var(--fill-color);\n",
              "    }\n",
              "    40% {\n",
              "      border-color: transparent;\n",
              "      border-right-color: var(--fill-color);\n",
              "      border-top-color: var(--fill-color);\n",
              "    }\n",
              "    60% {\n",
              "      border-color: transparent;\n",
              "      border-right-color: var(--fill-color);\n",
              "    }\n",
              "    80% {\n",
              "      border-color: transparent;\n",
              "      border-right-color: var(--fill-color);\n",
              "      border-bottom-color: var(--fill-color);\n",
              "    }\n",
              "    90% {\n",
              "      border-color: transparent;\n",
              "      border-bottom-color: var(--fill-color);\n",
              "    }\n",
              "  }\n",
              "</style>\n",
              "\n",
              "  <script>\n",
              "    async function quickchart(key) {\n",
              "      const quickchartButtonEl =\n",
              "        document.querySelector('#' + key + ' button');\n",
              "      quickchartButtonEl.disabled = true;  // To prevent multiple clicks.\n",
              "      quickchartButtonEl.classList.add('colab-df-spinner');\n",
              "      try {\n",
              "        const charts = await google.colab.kernel.invokeFunction(\n",
              "            'suggestCharts', [key], {});\n",
              "      } catch (error) {\n",
              "        console.error('Error during call to suggestCharts:', error);\n",
              "      }\n",
              "      quickchartButtonEl.classList.remove('colab-df-spinner');\n",
              "      quickchartButtonEl.classList.add('colab-df-quickchart-complete');\n",
              "    }\n",
              "    (() => {\n",
              "      let quickchartButtonEl =\n",
              "        document.querySelector('#df-bfed7b15-75a3-4267-89b9-f18af4dd106e button');\n",
              "      quickchartButtonEl.style.display =\n",
              "        google.colab.kernel.accessAllowed ? 'block' : 'none';\n",
              "    })();\n",
              "  </script>\n",
              "</div>\n",
              "\n",
              "    </div>\n",
              "  </div>\n"
            ],
            "application/vnd.google.colaboratory.intrinsic+json": {
              "type": "dataframe",
              "variable_name": "df"
            }
          },
          "metadata": {},
          "execution_count": 8
        }
      ],
      "source": [
        "df.head()"
      ]
    },
    {
      "cell_type": "code",
      "source": [
        "df.isnull().sum()"
      ],
      "metadata": {
        "colab": {
          "base_uri": "https://localhost:8080/",
          "height": 335
        },
        "id": "oeOO89N2EkFp",
        "outputId": "e765ca66-bb35-48fd-e3be-9a9d68b8e3b2"
      },
      "id": "oeOO89N2EkFp",
      "execution_count": 9,
      "outputs": [
        {
          "output_type": "execute_result",
          "data": {
            "text/plain": [
              "InvoiceNo           0\n",
              "StockCode           0\n",
              "Description      1454\n",
              "Quantity            0\n",
              "InvoiceDate         0\n",
              "UnitPrice           0\n",
              "CustomerID     135080\n",
              "Country             0\n",
              "dtype: int64"
            ],
            "text/html": [
              "<div>\n",
              "<style scoped>\n",
              "    .dataframe tbody tr th:only-of-type {\n",
              "        vertical-align: middle;\n",
              "    }\n",
              "\n",
              "    .dataframe tbody tr th {\n",
              "        vertical-align: top;\n",
              "    }\n",
              "\n",
              "    .dataframe thead th {\n",
              "        text-align: right;\n",
              "    }\n",
              "</style>\n",
              "<table border=\"1\" class=\"dataframe\">\n",
              "  <thead>\n",
              "    <tr style=\"text-align: right;\">\n",
              "      <th></th>\n",
              "      <th>0</th>\n",
              "    </tr>\n",
              "  </thead>\n",
              "  <tbody>\n",
              "    <tr>\n",
              "      <th>InvoiceNo</th>\n",
              "      <td>0</td>\n",
              "    </tr>\n",
              "    <tr>\n",
              "      <th>StockCode</th>\n",
              "      <td>0</td>\n",
              "    </tr>\n",
              "    <tr>\n",
              "      <th>Description</th>\n",
              "      <td>1454</td>\n",
              "    </tr>\n",
              "    <tr>\n",
              "      <th>Quantity</th>\n",
              "      <td>0</td>\n",
              "    </tr>\n",
              "    <tr>\n",
              "      <th>InvoiceDate</th>\n",
              "      <td>0</td>\n",
              "    </tr>\n",
              "    <tr>\n",
              "      <th>UnitPrice</th>\n",
              "      <td>0</td>\n",
              "    </tr>\n",
              "    <tr>\n",
              "      <th>CustomerID</th>\n",
              "      <td>135080</td>\n",
              "    </tr>\n",
              "    <tr>\n",
              "      <th>Country</th>\n",
              "      <td>0</td>\n",
              "    </tr>\n",
              "  </tbody>\n",
              "</table>\n",
              "</div><br><label><b>dtype:</b> int64</label>"
            ]
          },
          "metadata": {},
          "execution_count": 9
        }
      ]
    },
    {
      "cell_type": "code",
      "source": [
        "# Drop rows where Description is missing\n",
        "df = df.dropna(subset=['Description'])"
      ],
      "metadata": {
        "id": "xlaA8P4kFCK7"
      },
      "id": "xlaA8P4kFCK7",
      "execution_count": 10,
      "outputs": []
    },
    {
      "cell_type": "code",
      "source": [
        "# Drop rows where CustomerID is missing (since it affects customer analysis)\n",
        "df = df.dropna(subset=['CustomerID'])"
      ],
      "metadata": {
        "id": "Ah6YufyKFCWM"
      },
      "id": "Ah6YufyKFCWM",
      "execution_count": 11,
      "outputs": []
    },
    {
      "cell_type": "code",
      "source": [
        "# Convert CustomerID to integer (since it's stored as float)\n",
        "df['CustomerID'] = df['CustomerID'].astype(int)"
      ],
      "metadata": {
        "id": "EP65OZoEFCZd"
      },
      "id": "EP65OZoEFCZd",
      "execution_count": 12,
      "outputs": []
    },
    {
      "cell_type": "code",
      "source": [
        "# Verify missing values are removed\n",
        "print(df.isnull().sum())"
      ],
      "metadata": {
        "colab": {
          "base_uri": "https://localhost:8080/"
        },
        "id": "LDYjXs3ZFCdZ",
        "outputId": "f110482d-eb14-4060-c33e-7991a359fb8c"
      },
      "id": "LDYjXs3ZFCdZ",
      "execution_count": 13,
      "outputs": [
        {
          "output_type": "stream",
          "name": "stdout",
          "text": [
            "InvoiceNo      0\n",
            "StockCode      0\n",
            "Description    0\n",
            "Quantity       0\n",
            "InvoiceDate    0\n",
            "UnitPrice      0\n",
            "CustomerID     0\n",
            "Country        0\n",
            "dtype: int64\n"
          ]
        }
      ]
    },
    {
      "cell_type": "code",
      "source": [],
      "metadata": {
        "id": "fPk93WGl1j_7"
      },
      "id": "fPk93WGl1j_7",
      "execution_count": 13,
      "outputs": []
    },
    {
      "cell_type": "code",
      "source": [
        "# Check for duplicates\n",
        "print(f\"Duplicate rows before removal: {df.duplicated().sum()}\")"
      ],
      "metadata": {
        "colab": {
          "base_uri": "https://localhost:8080/"
        },
        "id": "7DsJoIlkFCfg",
        "outputId": "6d131ecc-13e9-4fd7-e63c-2b14e4a73f39"
      },
      "id": "7DsJoIlkFCfg",
      "execution_count": 14,
      "outputs": [
        {
          "output_type": "stream",
          "name": "stdout",
          "text": [
            "Duplicate rows before removal: 5225\n"
          ]
        }
      ]
    },
    {
      "cell_type": "code",
      "source": [
        "# Remove duplicates\n",
        "df = df.drop_duplicates()"
      ],
      "metadata": {
        "id": "rtaan2nWFtpy"
      },
      "id": "rtaan2nWFtpy",
      "execution_count": 15,
      "outputs": []
    },
    {
      "cell_type": "code",
      "source": [
        "# Verify duplicates are removed\n",
        "print(f\"Duplicate rows after removal: {df.duplicated().sum()}\")"
      ],
      "metadata": {
        "colab": {
          "base_uri": "https://localhost:8080/"
        },
        "id": "rCDo1JVwFttY",
        "outputId": "7078bffa-a475-49db-8aa5-e4f01d81b880"
      },
      "id": "rCDo1JVwFttY",
      "execution_count": 16,
      "outputs": [
        {
          "output_type": "stream",
          "name": "stdout",
          "text": [
            "Duplicate rows after removal: 0\n"
          ]
        }
      ]
    },
    {
      "cell_type": "code",
      "source": [
        "# Remove transactions with negative or zero Quantity\n",
        "df = df[df['Quantity'] > 0]"
      ],
      "metadata": {
        "id": "XfWyZO8vFtxO"
      },
      "id": "XfWyZO8vFtxO",
      "execution_count": 17,
      "outputs": []
    },
    {
      "cell_type": "code",
      "source": [
        "# Remove transactions with negative or zero UnitPrice\n",
        "df = df[df['UnitPrice'] > 0]"
      ],
      "metadata": {
        "id": "--upyrumFt0C"
      },
      "id": "--upyrumFt0C",
      "execution_count": 18,
      "outputs": []
    },
    {
      "cell_type": "code",
      "source": [
        "df.head()"
      ],
      "metadata": {
        "colab": {
          "base_uri": "https://localhost:8080/",
          "height": 206
        },
        "id": "hjEC694jFt2v",
        "outputId": "3843ca38-9691-45e2-e7c6-a9faf5fe20ee"
      },
      "id": "hjEC694jFt2v",
      "execution_count": 19,
      "outputs": [
        {
          "output_type": "execute_result",
          "data": {
            "text/plain": [
              "  InvoiceNo StockCode                          Description  Quantity  \\\n",
              "0    536365    85123A   WHITE HANGING HEART T-LIGHT HOLDER         6   \n",
              "1    536365     71053                  WHITE METAL LANTERN         6   \n",
              "2    536365    84406B       CREAM CUPID HEARTS COAT HANGER         8   \n",
              "3    536365    84029G  KNITTED UNION FLAG HOT WATER BOTTLE         6   \n",
              "4    536365    84029E       RED WOOLLY HOTTIE WHITE HEART.         6   \n",
              "\n",
              "          InvoiceDate  UnitPrice  CustomerID         Country  \n",
              "0 2010-12-01 08:26:00       2.55       17850  United Kingdom  \n",
              "1 2010-12-01 08:26:00       3.39       17850  United Kingdom  \n",
              "2 2010-12-01 08:26:00       2.75       17850  United Kingdom  \n",
              "3 2010-12-01 08:26:00       3.39       17850  United Kingdom  \n",
              "4 2010-12-01 08:26:00       3.39       17850  United Kingdom  "
            ],
            "text/html": [
              "\n",
              "  <div id=\"df-13270e9d-3d4b-4450-8c73-6aa76f178bc1\" class=\"colab-df-container\">\n",
              "    <div>\n",
              "<style scoped>\n",
              "    .dataframe tbody tr th:only-of-type {\n",
              "        vertical-align: middle;\n",
              "    }\n",
              "\n",
              "    .dataframe tbody tr th {\n",
              "        vertical-align: top;\n",
              "    }\n",
              "\n",
              "    .dataframe thead th {\n",
              "        text-align: right;\n",
              "    }\n",
              "</style>\n",
              "<table border=\"1\" class=\"dataframe\">\n",
              "  <thead>\n",
              "    <tr style=\"text-align: right;\">\n",
              "      <th></th>\n",
              "      <th>InvoiceNo</th>\n",
              "      <th>StockCode</th>\n",
              "      <th>Description</th>\n",
              "      <th>Quantity</th>\n",
              "      <th>InvoiceDate</th>\n",
              "      <th>UnitPrice</th>\n",
              "      <th>CustomerID</th>\n",
              "      <th>Country</th>\n",
              "    </tr>\n",
              "  </thead>\n",
              "  <tbody>\n",
              "    <tr>\n",
              "      <th>0</th>\n",
              "      <td>536365</td>\n",
              "      <td>85123A</td>\n",
              "      <td>WHITE HANGING HEART T-LIGHT HOLDER</td>\n",
              "      <td>6</td>\n",
              "      <td>2010-12-01 08:26:00</td>\n",
              "      <td>2.55</td>\n",
              "      <td>17850</td>\n",
              "      <td>United Kingdom</td>\n",
              "    </tr>\n",
              "    <tr>\n",
              "      <th>1</th>\n",
              "      <td>536365</td>\n",
              "      <td>71053</td>\n",
              "      <td>WHITE METAL LANTERN</td>\n",
              "      <td>6</td>\n",
              "      <td>2010-12-01 08:26:00</td>\n",
              "      <td>3.39</td>\n",
              "      <td>17850</td>\n",
              "      <td>United Kingdom</td>\n",
              "    </tr>\n",
              "    <tr>\n",
              "      <th>2</th>\n",
              "      <td>536365</td>\n",
              "      <td>84406B</td>\n",
              "      <td>CREAM CUPID HEARTS COAT HANGER</td>\n",
              "      <td>8</td>\n",
              "      <td>2010-12-01 08:26:00</td>\n",
              "      <td>2.75</td>\n",
              "      <td>17850</td>\n",
              "      <td>United Kingdom</td>\n",
              "    </tr>\n",
              "    <tr>\n",
              "      <th>3</th>\n",
              "      <td>536365</td>\n",
              "      <td>84029G</td>\n",
              "      <td>KNITTED UNION FLAG HOT WATER BOTTLE</td>\n",
              "      <td>6</td>\n",
              "      <td>2010-12-01 08:26:00</td>\n",
              "      <td>3.39</td>\n",
              "      <td>17850</td>\n",
              "      <td>United Kingdom</td>\n",
              "    </tr>\n",
              "    <tr>\n",
              "      <th>4</th>\n",
              "      <td>536365</td>\n",
              "      <td>84029E</td>\n",
              "      <td>RED WOOLLY HOTTIE WHITE HEART.</td>\n",
              "      <td>6</td>\n",
              "      <td>2010-12-01 08:26:00</td>\n",
              "      <td>3.39</td>\n",
              "      <td>17850</td>\n",
              "      <td>United Kingdom</td>\n",
              "    </tr>\n",
              "  </tbody>\n",
              "</table>\n",
              "</div>\n",
              "    <div class=\"colab-df-buttons\">\n",
              "\n",
              "  <div class=\"colab-df-container\">\n",
              "    <button class=\"colab-df-convert\" onclick=\"convertToInteractive('df-13270e9d-3d4b-4450-8c73-6aa76f178bc1')\"\n",
              "            title=\"Convert this dataframe to an interactive table.\"\n",
              "            style=\"display:none;\">\n",
              "\n",
              "  <svg xmlns=\"http://www.w3.org/2000/svg\" height=\"24px\" viewBox=\"0 -960 960 960\">\n",
              "    <path d=\"M120-120v-720h720v720H120Zm60-500h600v-160H180v160Zm220 220h160v-160H400v160Zm0 220h160v-160H400v160ZM180-400h160v-160H180v160Zm440 0h160v-160H620v160ZM180-180h160v-160H180v160Zm440 0h160v-160H620v160Z\"/>\n",
              "  </svg>\n",
              "    </button>\n",
              "\n",
              "  <style>\n",
              "    .colab-df-container {\n",
              "      display:flex;\n",
              "      gap: 12px;\n",
              "    }\n",
              "\n",
              "    .colab-df-convert {\n",
              "      background-color: #E8F0FE;\n",
              "      border: none;\n",
              "      border-radius: 50%;\n",
              "      cursor: pointer;\n",
              "      display: none;\n",
              "      fill: #1967D2;\n",
              "      height: 32px;\n",
              "      padding: 0 0 0 0;\n",
              "      width: 32px;\n",
              "    }\n",
              "\n",
              "    .colab-df-convert:hover {\n",
              "      background-color: #E2EBFA;\n",
              "      box-shadow: 0px 1px 2px rgba(60, 64, 67, 0.3), 0px 1px 3px 1px rgba(60, 64, 67, 0.15);\n",
              "      fill: #174EA6;\n",
              "    }\n",
              "\n",
              "    .colab-df-buttons div {\n",
              "      margin-bottom: 4px;\n",
              "    }\n",
              "\n",
              "    [theme=dark] .colab-df-convert {\n",
              "      background-color: #3B4455;\n",
              "      fill: #D2E3FC;\n",
              "    }\n",
              "\n",
              "    [theme=dark] .colab-df-convert:hover {\n",
              "      background-color: #434B5C;\n",
              "      box-shadow: 0px 1px 3px 1px rgba(0, 0, 0, 0.15);\n",
              "      filter: drop-shadow(0px 1px 2px rgba(0, 0, 0, 0.3));\n",
              "      fill: #FFFFFF;\n",
              "    }\n",
              "  </style>\n",
              "\n",
              "    <script>\n",
              "      const buttonEl =\n",
              "        document.querySelector('#df-13270e9d-3d4b-4450-8c73-6aa76f178bc1 button.colab-df-convert');\n",
              "      buttonEl.style.display =\n",
              "        google.colab.kernel.accessAllowed ? 'block' : 'none';\n",
              "\n",
              "      async function convertToInteractive(key) {\n",
              "        const element = document.querySelector('#df-13270e9d-3d4b-4450-8c73-6aa76f178bc1');\n",
              "        const dataTable =\n",
              "          await google.colab.kernel.invokeFunction('convertToInteractive',\n",
              "                                                    [key], {});\n",
              "        if (!dataTable) return;\n",
              "\n",
              "        const docLinkHtml = 'Like what you see? Visit the ' +\n",
              "          '<a target=\"_blank\" href=https://colab.research.google.com/notebooks/data_table.ipynb>data table notebook</a>'\n",
              "          + ' to learn more about interactive tables.';\n",
              "        element.innerHTML = '';\n",
              "        dataTable['output_type'] = 'display_data';\n",
              "        await google.colab.output.renderOutput(dataTable, element);\n",
              "        const docLink = document.createElement('div');\n",
              "        docLink.innerHTML = docLinkHtml;\n",
              "        element.appendChild(docLink);\n",
              "      }\n",
              "    </script>\n",
              "  </div>\n",
              "\n",
              "\n",
              "<div id=\"df-6b98d9db-df09-4170-ae09-14a1c5e96e33\">\n",
              "  <button class=\"colab-df-quickchart\" onclick=\"quickchart('df-6b98d9db-df09-4170-ae09-14a1c5e96e33')\"\n",
              "            title=\"Suggest charts\"\n",
              "            style=\"display:none;\">\n",
              "\n",
              "<svg xmlns=\"http://www.w3.org/2000/svg\" height=\"24px\"viewBox=\"0 0 24 24\"\n",
              "     width=\"24px\">\n",
              "    <g>\n",
              "        <path d=\"M19 3H5c-1.1 0-2 .9-2 2v14c0 1.1.9 2 2 2h14c1.1 0 2-.9 2-2V5c0-1.1-.9-2-2-2zM9 17H7v-7h2v7zm4 0h-2V7h2v10zm4 0h-2v-4h2v4z\"/>\n",
              "    </g>\n",
              "</svg>\n",
              "  </button>\n",
              "\n",
              "<style>\n",
              "  .colab-df-quickchart {\n",
              "      --bg-color: #E8F0FE;\n",
              "      --fill-color: #1967D2;\n",
              "      --hover-bg-color: #E2EBFA;\n",
              "      --hover-fill-color: #174EA6;\n",
              "      --disabled-fill-color: #AAA;\n",
              "      --disabled-bg-color: #DDD;\n",
              "  }\n",
              "\n",
              "  [theme=dark] .colab-df-quickchart {\n",
              "      --bg-color: #3B4455;\n",
              "      --fill-color: #D2E3FC;\n",
              "      --hover-bg-color: #434B5C;\n",
              "      --hover-fill-color: #FFFFFF;\n",
              "      --disabled-bg-color: #3B4455;\n",
              "      --disabled-fill-color: #666;\n",
              "  }\n",
              "\n",
              "  .colab-df-quickchart {\n",
              "    background-color: var(--bg-color);\n",
              "    border: none;\n",
              "    border-radius: 50%;\n",
              "    cursor: pointer;\n",
              "    display: none;\n",
              "    fill: var(--fill-color);\n",
              "    height: 32px;\n",
              "    padding: 0;\n",
              "    width: 32px;\n",
              "  }\n",
              "\n",
              "  .colab-df-quickchart:hover {\n",
              "    background-color: var(--hover-bg-color);\n",
              "    box-shadow: 0 1px 2px rgba(60, 64, 67, 0.3), 0 1px 3px 1px rgba(60, 64, 67, 0.15);\n",
              "    fill: var(--button-hover-fill-color);\n",
              "  }\n",
              "\n",
              "  .colab-df-quickchart-complete:disabled,\n",
              "  .colab-df-quickchart-complete:disabled:hover {\n",
              "    background-color: var(--disabled-bg-color);\n",
              "    fill: var(--disabled-fill-color);\n",
              "    box-shadow: none;\n",
              "  }\n",
              "\n",
              "  .colab-df-spinner {\n",
              "    border: 2px solid var(--fill-color);\n",
              "    border-color: transparent;\n",
              "    border-bottom-color: var(--fill-color);\n",
              "    animation:\n",
              "      spin 1s steps(1) infinite;\n",
              "  }\n",
              "\n",
              "  @keyframes spin {\n",
              "    0% {\n",
              "      border-color: transparent;\n",
              "      border-bottom-color: var(--fill-color);\n",
              "      border-left-color: var(--fill-color);\n",
              "    }\n",
              "    20% {\n",
              "      border-color: transparent;\n",
              "      border-left-color: var(--fill-color);\n",
              "      border-top-color: var(--fill-color);\n",
              "    }\n",
              "    30% {\n",
              "      border-color: transparent;\n",
              "      border-left-color: var(--fill-color);\n",
              "      border-top-color: var(--fill-color);\n",
              "      border-right-color: var(--fill-color);\n",
              "    }\n",
              "    40% {\n",
              "      border-color: transparent;\n",
              "      border-right-color: var(--fill-color);\n",
              "      border-top-color: var(--fill-color);\n",
              "    }\n",
              "    60% {\n",
              "      border-color: transparent;\n",
              "      border-right-color: var(--fill-color);\n",
              "    }\n",
              "    80% {\n",
              "      border-color: transparent;\n",
              "      border-right-color: var(--fill-color);\n",
              "      border-bottom-color: var(--fill-color);\n",
              "    }\n",
              "    90% {\n",
              "      border-color: transparent;\n",
              "      border-bottom-color: var(--fill-color);\n",
              "    }\n",
              "  }\n",
              "</style>\n",
              "\n",
              "  <script>\n",
              "    async function quickchart(key) {\n",
              "      const quickchartButtonEl =\n",
              "        document.querySelector('#' + key + ' button');\n",
              "      quickchartButtonEl.disabled = true;  // To prevent multiple clicks.\n",
              "      quickchartButtonEl.classList.add('colab-df-spinner');\n",
              "      try {\n",
              "        const charts = await google.colab.kernel.invokeFunction(\n",
              "            'suggestCharts', [key], {});\n",
              "      } catch (error) {\n",
              "        console.error('Error during call to suggestCharts:', error);\n",
              "      }\n",
              "      quickchartButtonEl.classList.remove('colab-df-spinner');\n",
              "      quickchartButtonEl.classList.add('colab-df-quickchart-complete');\n",
              "    }\n",
              "    (() => {\n",
              "      let quickchartButtonEl =\n",
              "        document.querySelector('#df-6b98d9db-df09-4170-ae09-14a1c5e96e33 button');\n",
              "      quickchartButtonEl.style.display =\n",
              "        google.colab.kernel.accessAllowed ? 'block' : 'none';\n",
              "    })();\n",
              "  </script>\n",
              "</div>\n",
              "\n",
              "    </div>\n",
              "  </div>\n"
            ],
            "application/vnd.google.colaboratory.intrinsic+json": {
              "type": "dataframe",
              "variable_name": "df"
            }
          },
          "metadata": {},
          "execution_count": 19
        }
      ]
    },
    {
      "cell_type": "code",
      "source": [
        "df.tail()"
      ],
      "metadata": {
        "colab": {
          "base_uri": "https://localhost:8080/",
          "height": 206
        },
        "id": "Von4CbJ4Ft6M",
        "outputId": "ba7e6a40-f084-4d66-e0b2-37377b0aadb5"
      },
      "id": "Von4CbJ4Ft6M",
      "execution_count": 20,
      "outputs": [
        {
          "output_type": "execute_result",
          "data": {
            "text/plain": [
              "       InvoiceNo StockCode                      Description  Quantity  \\\n",
              "541904    581587     22613      PACK OF 20 SPACEBOY NAPKINS        12   \n",
              "541905    581587     22899     CHILDREN'S APRON DOLLY GIRL          6   \n",
              "541906    581587     23254    CHILDRENS CUTLERY DOLLY GIRL          4   \n",
              "541907    581587     23255  CHILDRENS CUTLERY CIRCUS PARADE         4   \n",
              "541908    581587     22138    BAKING SET 9 PIECE RETROSPOT          3   \n",
              "\n",
              "               InvoiceDate  UnitPrice  CustomerID Country  \n",
              "541904 2011-12-09 12:50:00       0.85       12680  France  \n",
              "541905 2011-12-09 12:50:00       2.10       12680  France  \n",
              "541906 2011-12-09 12:50:00       4.15       12680  France  \n",
              "541907 2011-12-09 12:50:00       4.15       12680  France  \n",
              "541908 2011-12-09 12:50:00       4.95       12680  France  "
            ],
            "text/html": [
              "\n",
              "  <div id=\"df-9dd7cf90-2821-484e-b9c3-20b629afa91d\" class=\"colab-df-container\">\n",
              "    <div>\n",
              "<style scoped>\n",
              "    .dataframe tbody tr th:only-of-type {\n",
              "        vertical-align: middle;\n",
              "    }\n",
              "\n",
              "    .dataframe tbody tr th {\n",
              "        vertical-align: top;\n",
              "    }\n",
              "\n",
              "    .dataframe thead th {\n",
              "        text-align: right;\n",
              "    }\n",
              "</style>\n",
              "<table border=\"1\" class=\"dataframe\">\n",
              "  <thead>\n",
              "    <tr style=\"text-align: right;\">\n",
              "      <th></th>\n",
              "      <th>InvoiceNo</th>\n",
              "      <th>StockCode</th>\n",
              "      <th>Description</th>\n",
              "      <th>Quantity</th>\n",
              "      <th>InvoiceDate</th>\n",
              "      <th>UnitPrice</th>\n",
              "      <th>CustomerID</th>\n",
              "      <th>Country</th>\n",
              "    </tr>\n",
              "  </thead>\n",
              "  <tbody>\n",
              "    <tr>\n",
              "      <th>541904</th>\n",
              "      <td>581587</td>\n",
              "      <td>22613</td>\n",
              "      <td>PACK OF 20 SPACEBOY NAPKINS</td>\n",
              "      <td>12</td>\n",
              "      <td>2011-12-09 12:50:00</td>\n",
              "      <td>0.85</td>\n",
              "      <td>12680</td>\n",
              "      <td>France</td>\n",
              "    </tr>\n",
              "    <tr>\n",
              "      <th>541905</th>\n",
              "      <td>581587</td>\n",
              "      <td>22899</td>\n",
              "      <td>CHILDREN'S APRON DOLLY GIRL</td>\n",
              "      <td>6</td>\n",
              "      <td>2011-12-09 12:50:00</td>\n",
              "      <td>2.10</td>\n",
              "      <td>12680</td>\n",
              "      <td>France</td>\n",
              "    </tr>\n",
              "    <tr>\n",
              "      <th>541906</th>\n",
              "      <td>581587</td>\n",
              "      <td>23254</td>\n",
              "      <td>CHILDRENS CUTLERY DOLLY GIRL</td>\n",
              "      <td>4</td>\n",
              "      <td>2011-12-09 12:50:00</td>\n",
              "      <td>4.15</td>\n",
              "      <td>12680</td>\n",
              "      <td>France</td>\n",
              "    </tr>\n",
              "    <tr>\n",
              "      <th>541907</th>\n",
              "      <td>581587</td>\n",
              "      <td>23255</td>\n",
              "      <td>CHILDRENS CUTLERY CIRCUS PARADE</td>\n",
              "      <td>4</td>\n",
              "      <td>2011-12-09 12:50:00</td>\n",
              "      <td>4.15</td>\n",
              "      <td>12680</td>\n",
              "      <td>France</td>\n",
              "    </tr>\n",
              "    <tr>\n",
              "      <th>541908</th>\n",
              "      <td>581587</td>\n",
              "      <td>22138</td>\n",
              "      <td>BAKING SET 9 PIECE RETROSPOT</td>\n",
              "      <td>3</td>\n",
              "      <td>2011-12-09 12:50:00</td>\n",
              "      <td>4.95</td>\n",
              "      <td>12680</td>\n",
              "      <td>France</td>\n",
              "    </tr>\n",
              "  </tbody>\n",
              "</table>\n",
              "</div>\n",
              "    <div class=\"colab-df-buttons\">\n",
              "\n",
              "  <div class=\"colab-df-container\">\n",
              "    <button class=\"colab-df-convert\" onclick=\"convertToInteractive('df-9dd7cf90-2821-484e-b9c3-20b629afa91d')\"\n",
              "            title=\"Convert this dataframe to an interactive table.\"\n",
              "            style=\"display:none;\">\n",
              "\n",
              "  <svg xmlns=\"http://www.w3.org/2000/svg\" height=\"24px\" viewBox=\"0 -960 960 960\">\n",
              "    <path d=\"M120-120v-720h720v720H120Zm60-500h600v-160H180v160Zm220 220h160v-160H400v160Zm0 220h160v-160H400v160ZM180-400h160v-160H180v160Zm440 0h160v-160H620v160ZM180-180h160v-160H180v160Zm440 0h160v-160H620v160Z\"/>\n",
              "  </svg>\n",
              "    </button>\n",
              "\n",
              "  <style>\n",
              "    .colab-df-container {\n",
              "      display:flex;\n",
              "      gap: 12px;\n",
              "    }\n",
              "\n",
              "    .colab-df-convert {\n",
              "      background-color: #E8F0FE;\n",
              "      border: none;\n",
              "      border-radius: 50%;\n",
              "      cursor: pointer;\n",
              "      display: none;\n",
              "      fill: #1967D2;\n",
              "      height: 32px;\n",
              "      padding: 0 0 0 0;\n",
              "      width: 32px;\n",
              "    }\n",
              "\n",
              "    .colab-df-convert:hover {\n",
              "      background-color: #E2EBFA;\n",
              "      box-shadow: 0px 1px 2px rgba(60, 64, 67, 0.3), 0px 1px 3px 1px rgba(60, 64, 67, 0.15);\n",
              "      fill: #174EA6;\n",
              "    }\n",
              "\n",
              "    .colab-df-buttons div {\n",
              "      margin-bottom: 4px;\n",
              "    }\n",
              "\n",
              "    [theme=dark] .colab-df-convert {\n",
              "      background-color: #3B4455;\n",
              "      fill: #D2E3FC;\n",
              "    }\n",
              "\n",
              "    [theme=dark] .colab-df-convert:hover {\n",
              "      background-color: #434B5C;\n",
              "      box-shadow: 0px 1px 3px 1px rgba(0, 0, 0, 0.15);\n",
              "      filter: drop-shadow(0px 1px 2px rgba(0, 0, 0, 0.3));\n",
              "      fill: #FFFFFF;\n",
              "    }\n",
              "  </style>\n",
              "\n",
              "    <script>\n",
              "      const buttonEl =\n",
              "        document.querySelector('#df-9dd7cf90-2821-484e-b9c3-20b629afa91d button.colab-df-convert');\n",
              "      buttonEl.style.display =\n",
              "        google.colab.kernel.accessAllowed ? 'block' : 'none';\n",
              "\n",
              "      async function convertToInteractive(key) {\n",
              "        const element = document.querySelector('#df-9dd7cf90-2821-484e-b9c3-20b629afa91d');\n",
              "        const dataTable =\n",
              "          await google.colab.kernel.invokeFunction('convertToInteractive',\n",
              "                                                    [key], {});\n",
              "        if (!dataTable) return;\n",
              "\n",
              "        const docLinkHtml = 'Like what you see? Visit the ' +\n",
              "          '<a target=\"_blank\" href=https://colab.research.google.com/notebooks/data_table.ipynb>data table notebook</a>'\n",
              "          + ' to learn more about interactive tables.';\n",
              "        element.innerHTML = '';\n",
              "        dataTable['output_type'] = 'display_data';\n",
              "        await google.colab.output.renderOutput(dataTable, element);\n",
              "        const docLink = document.createElement('div');\n",
              "        docLink.innerHTML = docLinkHtml;\n",
              "        element.appendChild(docLink);\n",
              "      }\n",
              "    </script>\n",
              "  </div>\n",
              "\n",
              "\n",
              "<div id=\"df-1cb482c5-c511-4b3d-8cdf-247ae9d2a875\">\n",
              "  <button class=\"colab-df-quickchart\" onclick=\"quickchart('df-1cb482c5-c511-4b3d-8cdf-247ae9d2a875')\"\n",
              "            title=\"Suggest charts\"\n",
              "            style=\"display:none;\">\n",
              "\n",
              "<svg xmlns=\"http://www.w3.org/2000/svg\" height=\"24px\"viewBox=\"0 0 24 24\"\n",
              "     width=\"24px\">\n",
              "    <g>\n",
              "        <path d=\"M19 3H5c-1.1 0-2 .9-2 2v14c0 1.1.9 2 2 2h14c1.1 0 2-.9 2-2V5c0-1.1-.9-2-2-2zM9 17H7v-7h2v7zm4 0h-2V7h2v10zm4 0h-2v-4h2v4z\"/>\n",
              "    </g>\n",
              "</svg>\n",
              "  </button>\n",
              "\n",
              "<style>\n",
              "  .colab-df-quickchart {\n",
              "      --bg-color: #E8F0FE;\n",
              "      --fill-color: #1967D2;\n",
              "      --hover-bg-color: #E2EBFA;\n",
              "      --hover-fill-color: #174EA6;\n",
              "      --disabled-fill-color: #AAA;\n",
              "      --disabled-bg-color: #DDD;\n",
              "  }\n",
              "\n",
              "  [theme=dark] .colab-df-quickchart {\n",
              "      --bg-color: #3B4455;\n",
              "      --fill-color: #D2E3FC;\n",
              "      --hover-bg-color: #434B5C;\n",
              "      --hover-fill-color: #FFFFFF;\n",
              "      --disabled-bg-color: #3B4455;\n",
              "      --disabled-fill-color: #666;\n",
              "  }\n",
              "\n",
              "  .colab-df-quickchart {\n",
              "    background-color: var(--bg-color);\n",
              "    border: none;\n",
              "    border-radius: 50%;\n",
              "    cursor: pointer;\n",
              "    display: none;\n",
              "    fill: var(--fill-color);\n",
              "    height: 32px;\n",
              "    padding: 0;\n",
              "    width: 32px;\n",
              "  }\n",
              "\n",
              "  .colab-df-quickchart:hover {\n",
              "    background-color: var(--hover-bg-color);\n",
              "    box-shadow: 0 1px 2px rgba(60, 64, 67, 0.3), 0 1px 3px 1px rgba(60, 64, 67, 0.15);\n",
              "    fill: var(--button-hover-fill-color);\n",
              "  }\n",
              "\n",
              "  .colab-df-quickchart-complete:disabled,\n",
              "  .colab-df-quickchart-complete:disabled:hover {\n",
              "    background-color: var(--disabled-bg-color);\n",
              "    fill: var(--disabled-fill-color);\n",
              "    box-shadow: none;\n",
              "  }\n",
              "\n",
              "  .colab-df-spinner {\n",
              "    border: 2px solid var(--fill-color);\n",
              "    border-color: transparent;\n",
              "    border-bottom-color: var(--fill-color);\n",
              "    animation:\n",
              "      spin 1s steps(1) infinite;\n",
              "  }\n",
              "\n",
              "  @keyframes spin {\n",
              "    0% {\n",
              "      border-color: transparent;\n",
              "      border-bottom-color: var(--fill-color);\n",
              "      border-left-color: var(--fill-color);\n",
              "    }\n",
              "    20% {\n",
              "      border-color: transparent;\n",
              "      border-left-color: var(--fill-color);\n",
              "      border-top-color: var(--fill-color);\n",
              "    }\n",
              "    30% {\n",
              "      border-color: transparent;\n",
              "      border-left-color: var(--fill-color);\n",
              "      border-top-color: var(--fill-color);\n",
              "      border-right-color: var(--fill-color);\n",
              "    }\n",
              "    40% {\n",
              "      border-color: transparent;\n",
              "      border-right-color: var(--fill-color);\n",
              "      border-top-color: var(--fill-color);\n",
              "    }\n",
              "    60% {\n",
              "      border-color: transparent;\n",
              "      border-right-color: var(--fill-color);\n",
              "    }\n",
              "    80% {\n",
              "      border-color: transparent;\n",
              "      border-right-color: var(--fill-color);\n",
              "      border-bottom-color: var(--fill-color);\n",
              "    }\n",
              "    90% {\n",
              "      border-color: transparent;\n",
              "      border-bottom-color: var(--fill-color);\n",
              "    }\n",
              "  }\n",
              "</style>\n",
              "\n",
              "  <script>\n",
              "    async function quickchart(key) {\n",
              "      const quickchartButtonEl =\n",
              "        document.querySelector('#' + key + ' button');\n",
              "      quickchartButtonEl.disabled = true;  // To prevent multiple clicks.\n",
              "      quickchartButtonEl.classList.add('colab-df-spinner');\n",
              "      try {\n",
              "        const charts = await google.colab.kernel.invokeFunction(\n",
              "            'suggestCharts', [key], {});\n",
              "      } catch (error) {\n",
              "        console.error('Error during call to suggestCharts:', error);\n",
              "      }\n",
              "      quickchartButtonEl.classList.remove('colab-df-spinner');\n",
              "      quickchartButtonEl.classList.add('colab-df-quickchart-complete');\n",
              "    }\n",
              "    (() => {\n",
              "      let quickchartButtonEl =\n",
              "        document.querySelector('#df-1cb482c5-c511-4b3d-8cdf-247ae9d2a875 button');\n",
              "      quickchartButtonEl.style.display =\n",
              "        google.colab.kernel.accessAllowed ? 'block' : 'none';\n",
              "    })();\n",
              "  </script>\n",
              "</div>\n",
              "\n",
              "    </div>\n",
              "  </div>\n"
            ],
            "application/vnd.google.colaboratory.intrinsic+json": {
              "type": "dataframe",
              "repr_error": "0"
            }
          },
          "metadata": {},
          "execution_count": 20
        }
      ]
    },
    {
      "cell_type": "code",
      "source": [
        "# Remove canceled transactions (InvoiceNo starting with 'C')\n",
        "df = df[~df['InvoiceNo'].astype(str).str.startswith('C')]"
      ],
      "metadata": {
        "id": "s3NvB9e3Ft-t"
      },
      "id": "s3NvB9e3Ft-t",
      "execution_count": 21,
      "outputs": []
    },
    {
      "cell_type": "code",
      "source": [
        "# Verify the cleaned data\n",
        "print(df.describe())"
      ],
      "metadata": {
        "colab": {
          "base_uri": "https://localhost:8080/"
        },
        "id": "Uw8fVl42FuA5",
        "outputId": "f20ca04a-6189-49c6-d3d7-a2fb7db5ac3e"
      },
      "id": "Uw8fVl42FuA5",
      "execution_count": 22,
      "outputs": [
        {
          "output_type": "stream",
          "name": "stdout",
          "text": [
            "            Quantity                    InvoiceDate      UnitPrice  \\\n",
            "count  392692.000000                         392692  392692.000000   \n",
            "mean       13.119702  2011-07-10 19:13:07.771892480       3.125914   \n",
            "min         1.000000            2010-12-01 08:26:00       0.001000   \n",
            "25%         2.000000            2011-04-07 11:12:00       1.250000   \n",
            "50%         6.000000            2011-07-31 12:02:00       1.950000   \n",
            "75%        12.000000            2011-10-20 12:53:00       3.750000   \n",
            "max     80995.000000            2011-12-09 12:50:00    8142.750000   \n",
            "std       180.492832                            NaN      22.241836   \n",
            "\n",
            "          CustomerID  \n",
            "count  392692.000000  \n",
            "mean    15287.843865  \n",
            "min     12346.000000  \n",
            "25%     13955.000000  \n",
            "50%     15150.000000  \n",
            "75%     16791.000000  \n",
            "max     18287.000000  \n",
            "std      1713.539549  \n"
          ]
        }
      ]
    },
    {
      "cell_type": "code",
      "source": [
        "print('Unit Price: minimum value: ', df['UnitPrice'].min(), 'Unit Price: maximum value', df['UnitPrice'].max())"
      ],
      "metadata": {
        "colab": {
          "base_uri": "https://localhost:8080/"
        },
        "id": "OeYAFTBSFuER",
        "outputId": "25153210-458d-4730-dfc8-c9c3315817fc"
      },
      "id": "OeYAFTBSFuER",
      "execution_count": 23,
      "outputs": [
        {
          "output_type": "stream",
          "name": "stdout",
          "text": [
            "Unit Price: minimum value:  0.001 Unit Price: maximum value 8142.75\n"
          ]
        }
      ]
    },
    {
      "cell_type": "code",
      "source": [
        "# Check items with very low prices\n",
        "low_price_items = df[df['UnitPrice'] < 0.01]\n",
        "print(\"Low Price Items:\")\n",
        "print(low_price_items[['StockCode', 'Description', 'UnitPrice']].head())"
      ],
      "metadata": {
        "colab": {
          "base_uri": "https://localhost:8080/"
        },
        "id": "pOiGlHZmFuHx",
        "outputId": "5424fe4c-13a8-4f9e-dc90-0b593eef57f1"
      },
      "id": "pOiGlHZmFuHx",
      "execution_count": 24,
      "outputs": [
        {
          "output_type": "stream",
          "name": "stdout",
          "text": [
            "Low Price Items:\n",
            "           StockCode                 Description  UnitPrice\n",
            "157195          PADS  PADS TO MATCH ALL CUSHIONS      0.001\n",
            "279045          PADS  PADS TO MATCH ALL CUSHIONS      0.001\n",
            "359871          PADS  PADS TO MATCH ALL CUSHIONS      0.001\n",
            "361741  BANK CHARGES                Bank Charges      0.001\n"
          ]
        }
      ]
    },
    {
      "cell_type": "code",
      "source": [
        "# Check items with very high prices\n",
        "high_price_items = df[df['UnitPrice'] > 5000  ]\n",
        "print(\"\\nHigh Price Items:\")\n",
        "print(high_price_items[['StockCode', 'Description', 'UnitPrice']].head())"
      ],
      "metadata": {
        "colab": {
          "base_uri": "https://localhost:8080/"
        },
        "id": "pqwyrccgFuMB",
        "outputId": "82758c31-21c7-4943-80d3-c6786ce3135f"
      },
      "id": "pqwyrccgFuMB",
      "execution_count": 25,
      "outputs": [
        {
          "output_type": "stream",
          "name": "stdout",
          "text": [
            "\n",
            "High Price Items:\n",
            "       StockCode Description  UnitPrice\n",
            "173382      POST     POSTAGE    8142.75\n"
          ]
        }
      ]
    },
    {
      "cell_type": "code",
      "source": [
        "# Check items with very minimum quantity\n",
        "low_price_items = df[df['Quantity'] < 1]\n",
        "print(\"Quantity validation:\")\n",
        "print(low_price_items[['StockCode', 'Quantity','Description', 'UnitPrice']].head())"
      ],
      "metadata": {
        "colab": {
          "base_uri": "https://localhost:8080/"
        },
        "id": "HgOPlniM0OvO",
        "outputId": "05636b0b-a6e2-4049-ad55-1188e81c8af8"
      },
      "id": "HgOPlniM0OvO",
      "execution_count": 26,
      "outputs": [
        {
          "output_type": "stream",
          "name": "stdout",
          "text": [
            "Quantity validation:\n",
            "Empty DataFrame\n",
            "Columns: [StockCode, Quantity, Description, UnitPrice]\n",
            "Index: []\n"
          ]
        }
      ]
    },
    {
      "cell_type": "code",
      "source": [
        "# Convert InvoiceNo and StockCode to string\n",
        "df['InvoiceNo'] = df['InvoiceNo'].astype(str)\n",
        "df['StockCode'] = df['StockCode'].astype(str)"
      ],
      "metadata": {
        "id": "OVx25jHr6hy1"
      },
      "id": "OVx25jHr6hy1",
      "execution_count": 27,
      "outputs": []
    },
    {
      "cell_type": "code",
      "source": [
        "# Save clean data for Dashboard Design in Tableue\n",
        "df.to_excel('/content/drive/MyDrive/OnlineRetail.xlsx')"
      ],
      "metadata": {
        "id": "F-HUAfzPemov"
      },
      "id": "F-HUAfzPemov",
      "execution_count": 80,
      "outputs": []
    },
    {
      "cell_type": "code",
      "source": [],
      "metadata": {
        "id": "wS2_nRo76iO-"
      },
      "id": "wS2_nRo76iO-",
      "execution_count": 27,
      "outputs": []
    },
    {
      "cell_type": "code",
      "source": [
        "# Create an SQLite database\n",
        "conn = sqlite3.connect(\"ecommerce.db\")"
      ],
      "metadata": {
        "id": "FzuUVlJsFuOj"
      },
      "id": "FzuUVlJsFuOj",
      "execution_count": 28,
      "outputs": []
    },
    {
      "cell_type": "code",
      "source": [
        "# Load DataFrame into SQLite\n",
        "df.to_sql(\"online_retail\", conn, if_exists=\"replace\", index=False)"
      ],
      "metadata": {
        "colab": {
          "base_uri": "https://localhost:8080/"
        },
        "id": "ZqVvfRYWFuRb",
        "outputId": "0c363f57-987c-494a-f3cb-e59f3b3c6afd"
      },
      "id": "ZqVvfRYWFuRb",
      "execution_count": 29,
      "outputs": [
        {
          "output_type": "execute_result",
          "data": {
            "text/plain": [
              "392692"
            ]
          },
          "metadata": {},
          "execution_count": 29
        }
      ]
    },
    {
      "cell_type": "code",
      "source": [
        "# Verify by displaying table names\n",
        "cursor = conn.cursor()\n",
        "cursor.execute(\"SELECT name FROM sqlite_master WHERE type='table';\")\n",
        "print(cursor.fetchall())  # Should display [('online_retail',)]"
      ],
      "metadata": {
        "colab": {
          "base_uri": "https://localhost:8080/"
        },
        "id": "tNl0bou2FuWS",
        "outputId": "620529fc-62fb-4e65-df5d-6ca49fd82ad8"
      },
      "id": "tNl0bou2FuWS",
      "execution_count": 30,
      "outputs": [
        {
          "output_type": "stream",
          "name": "stdout",
          "text": [
            "[('online_retail',)]\n"
          ]
        }
      ]
    },
    {
      "cell_type": "code",
      "source": [],
      "metadata": {
        "id": "fb-nE4Cd2OeV"
      },
      "id": "fb-nE4Cd2OeV",
      "execution_count": 30,
      "outputs": []
    },
    {
      "cell_type": "markdown",
      "source": [
        "Exploratory DATA Analysis - SQL"
      ],
      "metadata": {
        "id": "1AcR9-4Z2a5v"
      },
      "id": "1AcR9-4Z2a5v"
    },
    {
      "cell_type": "markdown",
      "source": [
        "Check Total Transactions & Revenue"
      ],
      "metadata": {
        "id": "C7Jsa1yP2kwD"
      },
      "id": "C7Jsa1yP2kwD"
    },
    {
      "cell_type": "code",
      "source": [
        "query1 = \"\"\"SELECT COUNT(*) AS Total_Transaction, SUM(UnitPrice * Quantity) AS Total_Revenue\n",
        "        FROM online_retail\n",
        "        \"\"\"\n",
        "\n",
        "result = pd.read_sql_query(query1, conn)\n",
        "result['Total_Revenue'] = result['Total_Revenue'].apply(lambda x: \"{:,.0f}\".format(x))\n",
        "print(result)\n"
      ],
      "metadata": {
        "colab": {
          "base_uri": "https://localhost:8080/"
        },
        "id": "7MLS8nr-2OnY",
        "outputId": "af21ab25-d436-4467-d025-743137eea79f"
      },
      "id": "7MLS8nr-2OnY",
      "execution_count": 71,
      "outputs": [
        {
          "output_type": "stream",
          "name": "stdout",
          "text": [
            "   Total_Transaction Total_Revenue\n",
            "0             392692     8,887,209\n"
          ]
        }
      ]
    },
    {
      "cell_type": "markdown",
      "source": [
        "Find Top 10 Best-Selling Products"
      ],
      "metadata": {
        "id": "MXArP0G_4rh7"
      },
      "id": "MXArP0G_4rh7"
    },
    {
      "cell_type": "code",
      "source": [
        "query2 = \"\"\"SELECT Description, SUM(Quantity) AS Total_Sold\n",
        "        FROM online_retail\n",
        "        GROUP BY Description\n",
        "        ORDER BY Total_Sold DESC\n",
        "        LIMIT 10; \"\"\"\n",
        "\n",
        "result = pd.read_sql_query(query2, conn)\n",
        "print(result)"
      ],
      "metadata": {
        "colab": {
          "base_uri": "https://localhost:8080/"
        },
        "id": "heGXdmhj2Oqv",
        "outputId": "9e96d223-76ec-45ce-b9a3-3267bfc89f15"
      },
      "id": "heGXdmhj2Oqv",
      "execution_count": 56,
      "outputs": [
        {
          "output_type": "stream",
          "name": "stdout",
          "text": [
            "                          Description  Total_Sold\n",
            "0         PAPER CRAFT , LITTLE BIRDIE       80995\n",
            "1      MEDIUM CERAMIC TOP STORAGE JAR       77916\n",
            "2   WORLD WAR 2 GLIDERS ASSTD DESIGNS       54319\n",
            "3             JUMBO BAG RED RETROSPOT       46078\n",
            "4  WHITE HANGING HEART T-LIGHT HOLDER       36706\n",
            "5       ASSORTED COLOUR BIRD ORNAMENT       35263\n",
            "6     PACK OF 72 RETROSPOT CAKE CASES       33670\n",
            "7                      POPCORN HOLDER       30919\n",
            "8                  RABBIT NIGHT LIGHT       27153\n",
            "9             MINI PAINT SET VINTAGE        26076\n"
          ]
        }
      ]
    },
    {
      "cell_type": "markdown",
      "source": [
        "Visualizing top 10 selling products"
      ],
      "metadata": {
        "id": "5-fHqerET2Qq"
      },
      "id": "5-fHqerET2Qq"
    },
    {
      "cell_type": "code",
      "source": [
        "top_selling_products = pd.read_sql_query(query2, conn)\n",
        "\n",
        "# Plot bar chart showing top selling products\n",
        "plt.figure(figsize=(12,6))\n",
        "sns.barplot(x='Total_Sold', y='Description', data=top_selling_products, palette='viridis')\n",
        "plt.xlabel(\"Total Quantity Sold\")\n",
        "plt.ylabel(\"Product Description\")\n",
        "plt.title(\"Top 10 Best-Selling Products\")\n",
        "plt.show()"
      ],
      "metadata": {
        "colab": {
          "base_uri": "https://localhost:8080/",
          "height": 653
        },
        "id": "kDCbKYHdTHFr",
        "outputId": "9b771de6-5d50-45fb-9eaa-eba6f7e3509a"
      },
      "id": "kDCbKYHdTHFr",
      "execution_count": 57,
      "outputs": [
        {
          "output_type": "stream",
          "name": "stderr",
          "text": [
            "<ipython-input-57-40e4f64a108e>:5: FutureWarning: \n",
            "\n",
            "Passing `palette` without assigning `hue` is deprecated and will be removed in v0.14.0. Assign the `y` variable to `hue` and set `legend=False` for the same effect.\n",
            "\n",
            "  sns.barplot(x='Total_Sold', y='Description', data=top_selling_products, palette='viridis')\n"
          ]
        },
        {
          "output_type": "display_data",
          "data": {
            "text/plain": [
              "<Figure size 1200x600 with 1 Axes>"
            ],
            "image/png": "[encoded data removed]"
          },
          "metadata": {}
        }
      ]
    },
    {
      "cell_type": "markdown",
      "source": [
        "Monthly Sales Trends"
      ],
      "metadata": {
        "id": "jLC1wB-O5ioh"
      },
      "id": "jLC1wB-O5ioh"
    },
    {
      "cell_type": "code",
      "source": [
        "query3 = \"\"\"SELECT strftime('%Y - %m', InvoiceDate) AS Month,\n",
        "        SUM(UnitPrice * Quantity) AS Total_Monthly_Revenue\n",
        "        FROM online_retail\n",
        "        GROUP BY Month\n",
        "        ORDER BY Month; \"\"\"\n",
        "\n",
        "result = pd.read_sql_query(query3, conn)\n",
        "monthly_sales = result\n",
        "print(result)"
      ],
      "metadata": {
        "colab": {
          "base_uri": "https://localhost:8080/"
        },
        "id": "Ru1PeNT82Ot0",
        "outputId": "6b0ab8b9-b9d2-435f-bbf9-430a87f6cfd3"
      },
      "id": "Ru1PeNT82Ot0",
      "execution_count": 52,
      "outputs": [
        {
          "output_type": "stream",
          "name": "stdout",
          "text": [
            "        Month  Total_Monthly_Revenue\n",
            "0   2010 - 12             570422.730\n",
            "1   2011 - 01             568101.310\n",
            "2   2011 - 02             446084.920\n",
            "3   2011 - 03             594081.760\n",
            "4   2011 - 04             468374.331\n",
            "5   2011 - 05             677355.150\n",
            "6   2011 - 06             660046.050\n",
            "7   2011 - 07             598962.901\n",
            "8   2011 - 08             644051.040\n",
            "9   2011 - 09             950690.202\n",
            "10  2011 - 10            1035642.450\n",
            "11  2011 - 11            1156205.610\n",
            "12  2011 - 12             517190.440\n"
          ]
        }
      ]
    },
    {
      "cell_type": "markdown",
      "source": [
        "Visualizing Monthly sales trends."
      ],
      "metadata": {
        "id": "Qo7kZfIyUCNU"
      },
      "id": "Qo7kZfIyUCNU"
    },
    {
      "cell_type": "code",
      "source": [
        "monthly_sales = pd.read_sql(query3, conn)\n",
        "# Convert month column to datetime format\n",
        "monthly_sales['Month'] = pd.to_datetime(monthly_sales['Month'])\n",
        "\n",
        "# Plot revenue trends\n",
        "plt.figure(figsize=(12,6))\n",
        "sns.lineplot(x='Month', y='Total_Monthly_Revenue', data=monthly_sales, marker='o', color='blue')\n",
        "plt.xlabel(\"Month\")\n",
        "plt.ylabel(\"Total Revenue\")\n",
        "plt.title(\"Monthly Revenue Trends\")\n",
        "plt.xticks(rotation=45)\n",
        "plt.grid()\n",
        "plt.show()"
      ],
      "metadata": {
        "colab": {
          "base_uri": "https://localhost:8080/",
          "height": 657
        },
        "id": "0n269j3_R-Wp",
        "outputId": "2b88eefa-e054-4b9d-8e76-0aa9b39dddba"
      },
      "id": "0n269j3_R-Wp",
      "execution_count": 55,
      "outputs": [
        {
          "output_type": "stream",
          "name": "stderr",
          "text": [
            "<ipython-input-55-ae954c1b2580>:4: UserWarning: Could not infer format, so each element will be parsed individually, falling back to `dateutil`. To ensure parsing is consistent and as-expected, please specify a format.\n",
            "  monthly_sales['Month'] = pd.to_datetime(monthly_sales['Month'])\n"
          ]
        },
        {
          "output_type": "display_data",
          "data": {
            "text/plain": [
              "<Figure size 1200x600 with 1 Axes>"
            ],
            "image/png": "[encoded data removed]"
          },
          "metadata": {}
        }
      ]
    },
    {
      "cell_type": "markdown",
      "source": [
        " Most Frequent Customers"
      ],
      "metadata": {
        "id": "fQbhLW516Z3l"
      },
      "id": "fQbhLW516Z3l"
    },
    {
      "cell_type": "code",
      "source": [
        "query4 = \"\"\"SELECT CustomerID , SUM(UnitPrice * Quantity) AS Total_Spent\n",
        "        FROM online_retail\n",
        "        GROUP BY CustomerID\n",
        "        ORDER BY Total_Spent DESC\n",
        "        LIMIT 10;\"\"\"\n",
        "\n",
        "result = pd.read_sql_query(query4, conn)\n",
        "print(result)"
      ],
      "metadata": {
        "colab": {
          "base_uri": "https://localhost:8080/"
        },
        "id": "s8CR-SkL2OxH",
        "outputId": "62b793c5-af52-4700-ac4a-2aa8b895ff3a"
      },
      "id": "s8CR-SkL2OxH",
      "execution_count": 65,
      "outputs": [
        {
          "output_type": "stream",
          "name": "stdout",
          "text": [
            "   CustomerID  Total_Spent\n",
            "0       14646    280206.02\n",
            "1       18102    259657.30\n",
            "2       17450    194390.79\n",
            "3       16446    168472.50\n",
            "4       14911    143711.17\n",
            "5       12415    124914.53\n",
            "6       14156    117210.08\n",
            "7       17511     91062.38\n",
            "8       16029     80850.84\n",
            "9       12346     77183.60\n"
          ]
        }
      ]
    },
    {
      "cell_type": "markdown",
      "source": [
        "Visualizing Top spending customers"
      ],
      "metadata": {
        "id": "Q8q9plHwVWYT"
      },
      "id": "Q8q9plHwVWYT"
    },
    {
      "cell_type": "code",
      "source": [
        "top_10_customers = pd.read_sql_query(query4, conn)\n",
        "\n",
        "# Plot bar chart\n",
        "plt.figure(figsize=(12,6))\n",
        "sns.barplot(x='Total_Spent', y=top_10_customers['CustomerID'].astype(str), data=top_10_customers, palette='coolwarm')\n",
        "plt.xlabel(\"Total Spending\")\n",
        "plt.ylabel(\"Customer ID\")\n",
        "plt.title(\"Top 10 Customers by Spending\")\n",
        "plt.show()"
      ],
      "metadata": {
        "colab": {
          "base_uri": "https://localhost:8080/",
          "height": 653
        },
        "id": "xCycL59QVU5J",
        "outputId": "e7e90e8a-dc78-42ac-de73-046653f2ea1d"
      },
      "id": "xCycL59QVU5J",
      "execution_count": 66,
      "outputs": [
        {
          "output_type": "stream",
          "name": "stderr",
          "text": [
            "<ipython-input-66-db868dcfa369>:5: FutureWarning: \n",
            "\n",
            "Passing `palette` without assigning `hue` is deprecated and will be removed in v0.14.0. Assign the `y` variable to `hue` and set `legend=False` for the same effect.\n",
            "\n",
            "  sns.barplot(x='Total_Spent', y=top_10_customers['CustomerID'].astype(str), data=top_10_customers, palette='coolwarm')\n"
          ]
        },
        {
          "output_type": "display_data",
          "data": {
            "text/plain": [
              "<Figure size 1200x600 with 1 Axes>"
            ],
            "image/png": "[encoded data removed]"
          },
          "metadata": {}
        }
      ]
    },
    {
      "cell_type": "markdown",
      "source": [
        "Customers with highest number of Transactions."
      ],
      "metadata": {
        "id": "nfrexXNyU-vl"
      },
      "id": "nfrexXNyU-vl"
    },
    {
      "cell_type": "code",
      "source": [
        "query4_b = \"\"\"SELECT COUNT(InvoiceNo) AS Number_of_Transaction_by_Customer, CustomerID AS Customer\n",
        "        FROM online_retail\n",
        "        GROUP BY Customer\n",
        "        ORDER BY Number_of_Transaction_by_Customer DESC\n",
        "        LIMIT 10;\"\"\"\n",
        "\n",
        "result = pd.read_sql_query(query4_b, conn)\n",
        "print(result)"
      ],
      "metadata": {
        "colab": {
          "base_uri": "https://localhost:8080/"
        },
        "id": "OyK5VR6WU4uS",
        "outputId": "fcae9554-d03b-46ea-873e-2c99c0dd1fde"
      },
      "id": "OyK5VR6WU4uS",
      "execution_count": 60,
      "outputs": [
        {
          "output_type": "stream",
          "name": "stdout",
          "text": [
            "   Number_of_Transaction_by_Customer  Customer\n",
            "0                               7676     17841\n",
            "1                               5670     14911\n",
            "2                               5111     14096\n",
            "3                               4412     12748\n",
            "4                               2677     14606\n",
            "5                               2366     15311\n",
            "6                               2076     14646\n",
            "7                               1814     13089\n",
            "8                               1667     13263\n",
            "9                               1637     14298\n"
          ]
        }
      ]
    },
    {
      "cell_type": "markdown",
      "source": [
        "Top 5 Countries by Revenue (Excluding UK)"
      ],
      "metadata": {
        "id": "ryqTOEvV73jZ"
      },
      "id": "ryqTOEvV73jZ"
    },
    {
      "cell_type": "code",
      "source": [
        "query5 = \"\"\" SELECT Country, SUM(UnitPrice * Quantity) AS Revenue_by_countries\n",
        "        FROM online_retail\n",
        "        WHERE Country != \"United Kingdom\"\n",
        "        GROUP BY Country\n",
        "        ORDER BY Revenue_by_countries DESC\n",
        "        LIMIT 5; \"\"\"\n",
        "\n",
        "result = pd.read_sql_query(query5, conn)\n",
        "print(result)"
      ],
      "metadata": {
        "colab": {
          "base_uri": "https://localhost:8080/"
        },
        "id": "2HA_D6752O0g",
        "outputId": "5c588e50-37b5-439a-ee9e-2c4d0cff7268"
      },
      "id": "2HA_D6752O0g",
      "execution_count": 46,
      "outputs": [
        {
          "output_type": "stream",
          "name": "stdout",
          "text": [
            "       Country  Revenue_by_countries\n",
            "0  Netherlands             285446.34\n",
            "1         EIRE             265262.46\n",
            "2      Germany             228678.40\n",
            "3       France             208934.31\n",
            "4    Australia             138453.81\n"
          ]
        }
      ]
    },
    {
      "cell_type": "markdown",
      "source": [
        "Visualizing Revenue by Countries(Excluding UK)"
      ],
      "metadata": {
        "id": "2TNQ3oMHWJnq"
      },
      "id": "2TNQ3oMHWJnq"
    },
    {
      "cell_type": "code",
      "source": [
        "top_5_countries = pd.read_sql_query(query5, conn)\n",
        "# Plot bar chart\n",
        "plt.figure(figsize=(10,5))\n",
        "sns.barplot(x='Revenue_by_countries', y='Country', data=top_5_countries, palette='Blues_r')\n",
        "plt.xlabel(\"Total Revenue\")\n",
        "plt.ylabel(\"Country\")\n",
        "plt.title(\"Top 5 Countries by Revenue (Excluding UK)\")\n",
        "plt.show()"
      ],
      "metadata": {
        "id": "RS47RjOW2O7D",
        "colab": {
          "base_uri": "https://localhost:8080/",
          "height": 576
        },
        "outputId": "bb4c23f7-6f23-4356-d0fe-b3abded75247"
      },
      "id": "RS47RjOW2O7D",
      "execution_count": 67,
      "outputs": [
        {
          "output_type": "stream",
          "name": "stderr",
          "text": [
            "<ipython-input-67-939336da8bce>:4: FutureWarning: \n",
            "\n",
            "Passing `palette` without assigning `hue` is deprecated and will be removed in v0.14.0. Assign the `y` variable to `hue` and set `legend=False` for the same effect.\n",
            "\n",
            "  sns.barplot(x='Revenue_by_countries', y='Country', data=top_5_countries, palette='Blues_r')\n"
          ]
        },
        {
          "output_type": "display_data",
          "data": {
            "text/plain": [
              "<Figure size 1000x500 with 1 Axes>"
            ],
            "image/png": "[encoded data removed]"
          },
          "metadata": {}
        }
      ]
    },
    {
      "cell_type": "code",
      "source": [],
      "metadata": {
        "id": "H0NLkw7h2PDv"
      },
      "id": "H0NLkw7h2PDv",
      "execution_count": null,
      "outputs": []
    },
    {
      "cell_type": "markdown",
      "source": [
        "Customer Segmentation Using K-Means Clustering."
      ],
      "metadata": {
        "id": "7iE5i5C6Z__e"
      },
      "id": "7iE5i5C6Z__e"
    },
    {
      "cell_type": "code",
      "source": [
        "import numpy as np\n",
        "from sklearn.preprocessing import StandardScaler\n",
        "\n",
        "# Select RFM features for clustering\n",
        "rfm_features = rfm_df[['Recency', 'Frequency', 'Monetary']]\n",
        "\n",
        "# Standardize (scale) the data\n",
        "scaler = StandardScaler()\n",
        "rfm_scaled = scaler.fit_transform(rfm_features)\n",
        "\n",
        "# Convert back to DataFrame\n",
        "rfm_scaled_df = pd.DataFrame(rfm_scaled, columns=['Recency', 'Frequency', 'Monetary'])\n",
        "\n",
        "# Show first few rows\n",
        "print(rfm_scaled_df.head())\n"
      ],
      "metadata": {
        "id": "bPfdXeLm2PHp",
        "colab": {
          "base_uri": "https://localhost:8080/"
        },
        "outputId": "112f7960-5387-4460-8838-d96b08eb4061"
      },
      "id": "bPfdXeLm2PHp",
      "execution_count": 75,
      "outputs": [
        {
          "output_type": "stream",
          "name": "stdout",
          "text": [
            "    Recency  Frequency  Monetary\n",
            "0  2.334574  -0.425097  8.363010\n",
            "1 -0.905340   0.354417  0.251699\n",
            "2 -0.175360  -0.035340 -0.027988\n",
            "3 -0.735345  -0.425097 -0.032406\n",
            "4  2.174578  -0.425097 -0.190812\n"
          ]
        }
      ]
    },
    {
      "cell_type": "code",
      "source": [
        "import matplotlib.pyplot as plt\n",
        "from sklearn.cluster import KMeans\n",
        "\n",
        "# Test different K values\n",
        "inertia = []\n",
        "K_range = range(1, 11)\n",
        "\n",
        "for k in K_range:\n",
        "    kmeans = KMeans(n_clusters=k, random_state=42)\n",
        "    kmeans.fit(rfm_scaled_df)\n",
        "    inertia.append(kmeans.inertia_)\n",
        "\n",
        "# Plot Elbow Curve\n",
        "plt.figure(figsize=(8,5))\n",
        "plt.plot(K_range, inertia, marker='o', linestyle='dashed', color='blue')\n",
        "plt.xlabel(\"Number of Clusters (K)\")\n",
        "plt.ylabel(\"Inertia (Within-Cluster Sum of Squares)\")\n",
        "plt.title(\"Elbow Method for Optimal K\")\n",
        "plt.show()\n"
      ],
      "metadata": {
        "id": "_mbTpENN2PMb",
        "colab": {
          "base_uri": "https://localhost:8080/",
          "height": 523
        },
        "outputId": "d9320e8a-e91c-4964-be02-3eb076b27ef4"
      },
      "id": "_mbTpENN2PMb",
      "execution_count": 76,
      "outputs": [
        {
          "output_type": "stream",
          "name": "stderr",
          "text": [
            "/usr/local/lib/python3.11/dist-packages/IPython/core/pylabtools.py:151: UserWarning: Glyph 128201 (\\N{CHART WITH DOWNWARDS TREND}) missing from font(s) DejaVu Sans.\n",
            "  fig.canvas.print_figure(bytes_io, **kw)\n"
          ]
        },
        {
          "output_type": "display_data",
          "data": {
            "text/plain": [
              "<Figure size 800x500 with 1 Axes>"
            ],
            "image/png": "[encoded data removed]"
          },
          "metadata": {}
        }
      ]
    },
    {
      "cell_type": "code",
      "source": [
        "# Apply K-Means with optimal K (adjust K based on Elbow Method)\n",
        "optimal_k = 4  # Update if needed\n",
        "kmeans = KMeans(n_clusters=optimal_k, random_state=42)\n",
        "rfm_df['Cluster'] = kmeans.fit_predict(rfm_scaled_df)\n",
        "\n",
        "# Show first few rows with clusters\n",
        "print(rfm_df[['Recency', 'Frequency', 'Monetary', 'Cluster']].head())\n"
      ],
      "metadata": {
        "id": "SorBczrO2PTp",
        "colab": {
          "base_uri": "https://localhost:8080/"
        },
        "outputId": "05648bf5-b204-4e43-9107-61b2fed6c16b"
      },
      "id": "SorBczrO2PTp",
      "execution_count": 77,
      "outputs": [
        {
          "output_type": "stream",
          "name": "stdout",
          "text": [
            "            Recency  Frequency  Monetary  Cluster\n",
            "CustomerID                                       \n",
            "12346           325          1  77183.60        3\n",
            "12347             1          7   4310.00        0\n",
            "12348            74          4   1797.24        0\n",
            "12349            18          1   1757.55        0\n",
            "12350           309          1    334.40        1\n"
          ]
        }
      ]
    },
    {
      "cell_type": "code",
      "source": [
        "# Visualising Clusters using recency vs monetary\n",
        "\n",
        "plt.figure(figsize=(10,6))\n",
        "sns.scatterplot(x=rfm_df['Recency'], y=rfm_df['Monetary'], hue=rfm_df['Cluster'], palette='viridis', s=100)\n",
        "plt.xlabel(\"Recency (Days Since Last Purchase)\")\n",
        "plt.ylabel(\"Monetary (Total Spending)\")\n",
        "plt.title(\"📊 Customer Segments (K-Means Clustering)\")\n",
        "plt.show()\n"
      ],
      "metadata": {
        "id": "bEznJ4CO2PVX",
        "colab": {
          "base_uri": "https://localhost:8080/",
          "height": 600
        },
        "outputId": "7f27092f-e4bf-42d9-9287-500c08041b74"
      },
      "id": "bEznJ4CO2PVX",
      "execution_count": 78,
      "outputs": [
        {
          "output_type": "stream",
          "name": "stderr",
          "text": [
            "/usr/local/lib/python3.11/dist-packages/IPython/core/pylabtools.py:151: UserWarning: Glyph 128202 (\\N{BAR CHART}) missing from font(s) DejaVu Sans.\n",
            "  fig.canvas.print_figure(bytes_io, **kw)\n"
          ]
        },
        {
          "output_type": "display_data",
          "data": {
            "text/plain": [
              "<Figure size 1000x600 with 1 Axes>"
            ],
            "image/png": "[encoded data removed]"
          },
          "metadata": {}
        }
      ]
    },
    {
      "cell_type": "markdown",
      "source": [
        "Let's analyze the clustering insights from the provided scatter plot of \"Recency (Days Since Last Purchase)\" vs. \"Monetary (Total Spending)\" using **K-Means clustering.**\n",
        "\n",
        "Understanding the Axes:\n",
        "\n",
        "**Recency (X-axis):** Represents how recently a customer made a purchase (in days).1 Lower values mean more recent purchases.\n",
        "\n",
        "**Monetary (Y-axis):** Represents the total amount of money a customer has spent.\n",
        "Clustering Insights:\n",
        "\n",
        "Based on the visualization, we can observe four distinct customer clusters (0, 1, 2, 3), each revealing different behavioral patterns:\n",
        "\n",
        "**Cluster 0 (Dark Purple): **Low Recency, Low Monetary\n",
        "These customers have made recent purchases but have relatively low total spending.\n",
        "They are likely frequent shoppers who don't spend large amounts per transaction.\n",
        "This could represent budget-conscious or value-seeking customers.\n",
        "\n",
        "**Cluster 1 (Dark Blue):** Low Recency, High Monetary\n",
        "These customers have made recent purchases and have high total spending.\n",
        "They are the most valuable customers, representing high-value, recent shoppers.\n",
        "They are likely loyal and engaged customers.\n",
        "\n",
        "**Cluster 2 (Yellow):** High Recency, Moderate to Low Monetary\n",
        "These customers have not made purchases recently and have moderate to low total spending.\n",
        "They are likely churned or inactive customers.\n",
        "They may require re-engagement strategies to win them back.\n",
        "\n",
        "**Cluster 3 (Light Green):** Low to Moderate Recency, Moderate Monetary\n",
        "These customers have made purchases with a moderate recency and have a moderate monetary value.\n",
        "These are customers that have potential to be moved into the high value customers.\n",
        "They are in the middle between high value and inactive.\n",
        "\n",
        "**Key Insights and Potential Actions:**\n",
        "\n",
        "**Identify High-Value Customers (Cluster 1):** Focus on retaining these customers through personalized offers, loyalty programs, and excellent customer service.\n",
        "\n",
        "**Re-engage Inactive Customers (Cluster 2):** italicized text Develop targeted campaigns to win back these customers, such as special promotions or personalized recommendations.\n",
        "\n",
        "**Nurture Potential High-Value Customers (Cluster 3):** Implement strategies to increase their spending and frequency of purchases.\n",
        "\n",
        "**Analyze Low-Spending Frequent Shoppers (Cluster 0):** Understand their purchasing behavior and identify opportunities to increase their average order value."
      ],
      "metadata": {
        "id": "POgHqv2pcLO8"
      },
      "id": "POgHqv2pcLO8"
    },
    {
      "cell_type": "code",
      "source": [],
      "metadata": {
        "id": "Ut19t7E72PYZ"
      },
      "id": "Ut19t7E72PYZ",
      "execution_count": null,
      "outputs": []
    },
    {
      "cell_type": "code",
      "source": [],
      "metadata": {
        "id": "WOzHob0t2PaW"
      },
      "id": "WOzHob0t2PaW",
      "execution_count": null,
      "outputs": []
    },
    {
      "cell_type": "code",
      "execution_count": null,
      "id": "3aef5c82-9b09-431c-82a1-9ba0e0efa1ad",
      "metadata": {
        "id": "3aef5c82-9b09-431c-82a1-9ba0e0efa1ad"
      },
      "outputs": [],
      "source": []
    },
    {
      "cell_type": "code",
      "execution_count": null,
      "id": "a00c5b7c-7c44-498b-9a46-a71fa5e0dfab",
      "metadata": {
        "id": "a00c5b7c-7c44-498b-9a46-a71fa5e0dfab"
      },
      "outputs": [],
      "source": []
    },
    {
      "cell_type": "code",
      "execution_count": null,
      "id": "cd64ad66-68b2-4bbb-a1d1-39462bb061c3",
      "metadata": {
        "id": "cd64ad66-68b2-4bbb-a1d1-39462bb061c3"
      },
      "outputs": [],
      "source": []
    },
    {
      "cell_type": "code",
      "execution_count": null,
      "id": "9f2faae8-c776-498e-9b54-54fc83db78cf",
      "metadata": {
        "id": "9f2faae8-c776-498e-9b54-54fc83db78cf"
      },
      "outputs": [],
      "source": []
    },
    {
      "cell_type": "code",
      "execution_count": null,
      "id": "2fec672d-08e6-471f-80d1-0328d29188ab",
      "metadata": {
        "id": "2fec672d-08e6-471f-80d1-0328d29188ab"
      },
      "outputs": [],
      "source": []
    },
    {
      "cell_type": "code",
      "execution_count": null,
      "id": "cf08825f-0322-4027-add1-05194ffcf5a4",
      "metadata": {
        "id": "cf08825f-0322-4027-add1-05194ffcf5a4"
      },
      "outputs": [],
      "source": []
    },
    {
      "cell_type": "code",
      "execution_count": null,
      "id": "d6bb14c3-f481-4c74-9238-a004bb9cdbd9",
      "metadata": {
        "id": "d6bb14c3-f481-4c74-9238-a004bb9cdbd9"
      },
      "outputs": [],
      "source": []
    },
    {
      "cell_type": "code",
      "execution_count": null,
      "id": "51ea8b95-f75d-4c47-a338-4e3d28cbc686",
      "metadata": {
        "id": "51ea8b95-f75d-4c47-a338-4e3d28cbc686"
      },
      "outputs": [],
      "source": []
    },
    {
      "cell_type": "code",
      "execution_count": null,
      "id": "55cb7a95-c4d5-43fb-b6cb-3fd51edf27d0",
      "metadata": {
        "id": "55cb7a95-c4d5-43fb-b6cb-3fd51edf27d0"
      },
      "outputs": [],
      "source": []
    },
    {
      "cell_type": "code",
      "execution_count": null,
      "id": "0a3db82c-5725-403e-b0b8-02f40807ca2f",
      "metadata": {
        "id": "0a3db82c-5725-403e-b0b8-02f40807ca2f"
      },
      "outputs": [],
      "source": []
    },
    {
      "cell_type": "code",
      "execution_count": null,
      "id": "a61c4644-8397-4624-920d-520690e8d92b",
      "metadata": {
        "id": "a61c4644-8397-4624-920d-520690e8d92b"
      },
      "outputs": [],
      "source": []
    },
    {
      "cell_type": "code",
      "execution_count": null,
      "id": "c85de757-53c8-40b5-8a93-c71fc130f1a1",
      "metadata": {
        "id": "c85de757-53c8-40b5-8a93-c71fc130f1a1"
      },
      "outputs": [],
      "source": []
    },
    {
      "cell_type": "code",
      "execution_count": null,
      "id": "e3fe99a5-7386-482e-9667-323e064b5658",
      "metadata": {
        "id": "e3fe99a5-7386-482e-9667-323e064b5658"
      },
      "outputs": [],
      "source": []
    },
    {
      "cell_type": "code",
      "execution_count": null,
      "id": "50b5491f-5824-4de0-9d89-7f7c1c4afd13",
      "metadata": {
        "id": "50b5491f-5824-4de0-9d89-7f7c1c4afd13"
      },
      "outputs": [],
      "source": []
    },
    {
      "cell_type": "code",
      "execution_count": null,
      "id": "9c3069cc-9c0f-4d86-8897-1c70b2987082",
      "metadata": {
        "id": "9c3069cc-9c0f-4d86-8897-1c70b2987082"
      },
      "outputs": [],
      "source": []
    },
    {
      "cell_type": "code",
      "execution_count": null,
      "id": "8cda2238-77ef-4386-b148-50fdef15fefb",
      "metadata": {
        "id": "8cda2238-77ef-4386-b148-50fdef15fefb"
      },
      "outputs": [],
      "source": []
    },
    {
      "cell_type": "code",
      "execution_count": null,
      "id": "11c504af-3b3a-4196-9731-f92e829762c1",
      "metadata": {
        "id": "11c504af-3b3a-4196-9731-f92e829762c1"
      },
      "outputs": [],
      "source": []
    }
  ],
  "metadata": {
    "kernelspec": {
      "display_name": "Python [conda env:base] *",
      "language": "python",
      "name": "conda-base-py"
    },
    "language_info": {
      "codemirror_mode": {
        "name": "ipython",
        "version": 3
      },
      "file_extension": ".py",
      "mimetype": "text/x-python",
      "name": "python",
      "nbconvert_exporter": "python",
      "pygments_lexer": "ipython3",
      "version": "3.12.7"
    },
    "colab": {
      "provenance": []
    }
  },
  "nbformat": 4,
  "nbformat_minor": 5
}